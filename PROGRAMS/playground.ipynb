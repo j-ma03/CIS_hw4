{
 "cells": [
  {
   "cell_type": "code",
   "execution_count": 1,
   "metadata": {},
   "outputs": [],
   "source": [
    "from utils.meshgrid import Triangle\n",
    "import numpy as np\n",
    "from utils.icp import IterativeClosestPoint"
   ]
  },
  {
   "cell_type": "code",
   "execution_count": 2,
   "metadata": {},
   "outputs": [
    {
     "name": "stdout",
     "output_type": "stream",
     "text": [
      "[1.00001250e+02 1.00000000e+07 1.52565812e-14]\n",
      "[[100.     42.      0.   ]\n",
      " [ 51.228  25.614   0.   ]\n",
      " [ 10.      2.      0.   ]]\n"
     ]
    }
   ],
   "source": [
    "vertices = np.array([\n",
    "    [100, 50, 0],\n",
    "\n",
    "     [0, 0, 0],\n",
    "    \n",
    "    [100, 0, 0],\n",
    "\n",
    "    \n",
    "    \n",
    "    \n",
    "\n",
    "    \n",
    "    \n",
    "    \n",
    "])\n",
    "# query = np.array([42.69, 42.69, -10000000], dtype=np.float64).reshape(-1, 3)\n",
    "# query = np.array([1200000000, 42, -10000000000], dtype=np.float64).reshape(1, -1)\n",
    "\n",
    "query = np.array([\n",
    "    [100.5, 42, -100],\n",
    "    [42.69, 42.69, -10000000],\n",
    "    [10, 2, 0]\n",
    "    # [120,]\n",
    "], dtype=np.float64)\n",
    "\n",
    "\"\"\"\n",
    "query = np.array([\n",
    "    [120, 42, -100],\n",
    "], dtype=np.float64)\n",
    "\"\"\"\n",
    "\n",
    "# query = np.array([75, 10, 0], dtype=np.float64).reshape(1, -1)\n",
    "\n",
    "triangle = Triangle(vertices[0], vertices[1], vertices[2])\n",
    "dist, pt = triangle.closest_distance_to(query)\n",
    "\n",
    "print(dist)\n",
    "print(pt)"
   ]
  },
  {
   "cell_type": "code",
   "execution_count": 3,
   "metadata": {},
   "outputs": [
    {
     "name": "stdout",
     "output_type": "stream",
     "text": [
      "False\n",
      "[ True False False]\n"
     ]
    }
   ],
   "source": [
    "vertices1 = np.array([\n",
    "    [100, 0, 0],\n",
    "    [0, 0, 0],\n",
    "    [50, 50, 0],\n",
    "])\n",
    "\n",
    "vertices2 = np.array([\n",
    "    [101, 0, 0],\n",
    "    [120, 25, 0],\n",
    "    [120, 0, 0],\n",
    "])\n",
    "\n",
    "triangle1 = Triangle(vertices1[0], vertices1[1], vertices1[2])\n",
    "triangle2 = Triangle(vertices2[0], vertices2[1], vertices2[2])\n",
    "\n",
    "print(triangle1.box().overlaps(triangle2.box()))\n",
    "\n",
    "pts = np.array([\n",
    "    [100, 0, 0],\n",
    "    [120, 0, 0],\n",
    "    [120, 25, 0],\n",
    "])\n",
    "\n",
    "print(triangle1.box().contains(pts))"
   ]
  },
  {
   "cell_type": "code",
   "execution_count": 4,
   "metadata": {},
   "outputs": [
    {
     "ename": "Exception",
     "evalue": "Expected input meshgrid should be of type Meshgrid but got 'NoneType'!",
     "output_type": "error",
     "traceback": [
      "\u001b[0;31m---------------------------------------------------------------------------\u001b[0m",
      "\u001b[0;31mException\u001b[0m                                 Traceback (most recent call last)",
      "\u001b[0;32m/var/folders/c4/jbzqws1x1d785p_ghh6mppwm0000gn/T/ipykernel_52373/3355513675.py\u001b[0m in \u001b[0;36m<module>\u001b[0;34m\u001b[0m\n\u001b[1;32m      1\u001b[0m \u001b[0micp\u001b[0m \u001b[0;34m=\u001b[0m \u001b[0mIterativeClosestPoint\u001b[0m\u001b[0;34m(\u001b[0m\u001b[0;34m)\u001b[0m\u001b[0;34m\u001b[0m\u001b[0;34m\u001b[0m\u001b[0m\n\u001b[1;32m      2\u001b[0m \u001b[0;34m\u001b[0m\u001b[0m\n\u001b[0;32m----> 3\u001b[0;31m \u001b[0micp\u001b[0m\u001b[0;34m.\u001b[0m\u001b[0mmatch\u001b[0m\u001b[0;34m(\u001b[0m\u001b[0mnp\u001b[0m\u001b[0;34m.\u001b[0m\u001b[0mzeros\u001b[0m\u001b[0;34m(\u001b[0m\u001b[0;34m(\u001b[0m\u001b[0;36m3\u001b[0m\u001b[0;34m,\u001b[0m\u001b[0;36m3\u001b[0m\u001b[0;34m)\u001b[0m\u001b[0;34m)\u001b[0m\u001b[0;34m,\u001b[0m \u001b[0;32mNone\u001b[0m\u001b[0;34m)\u001b[0m\u001b[0;34m\u001b[0m\u001b[0;34m\u001b[0m\u001b[0m\n\u001b[0m",
      "\u001b[0;32m~/Documents/JHU/CIS 1/Programming Assignment 3/CIS_hw3/PROGRAMS/utils/icp.py\u001b[0m in \u001b[0;36mmatch\u001b[0;34m(self, pt_cloud, meshgrid)\u001b[0m\n\u001b[1;32m     28\u001b[0m \u001b[0;34m\u001b[0m\u001b[0m\n\u001b[1;32m     29\u001b[0m         \u001b[0;32mif\u001b[0m \u001b[0;32mnot\u001b[0m \u001b[0misinstance\u001b[0m\u001b[0;34m(\u001b[0m\u001b[0mmeshgrid\u001b[0m\u001b[0;34m,\u001b[0m \u001b[0mMeshgrid\u001b[0m\u001b[0;34m)\u001b[0m\u001b[0;34m:\u001b[0m\u001b[0;34m\u001b[0m\u001b[0;34m\u001b[0m\u001b[0m\n\u001b[0;32m---> 30\u001b[0;31m             \u001b[0;32mraise\u001b[0m \u001b[0mException\u001b[0m\u001b[0;34m(\u001b[0m\u001b[0;34mf'Expected input meshgrid should be of type Meshgrid but got \\'{meshgrid.__class__.__name__}\\'!'\u001b[0m\u001b[0;34m)\u001b[0m\u001b[0;34m\u001b[0m\u001b[0;34m\u001b[0m\u001b[0m\n\u001b[0m\u001b[1;32m     31\u001b[0m \u001b[0;34m\u001b[0m\u001b[0m\n\u001b[1;32m     32\u001b[0m         \u001b[0;32mif\u001b[0m \u001b[0mself\u001b[0m\u001b[0;34m.\u001b[0m\u001b[0mmatch_mode\u001b[0m \u001b[0;34m==\u001b[0m \u001b[0mMatching\u001b[0m\u001b[0;34m.\u001b[0m\u001b[0mSIMPLE_LINEAR\u001b[0m\u001b[0;34m:\u001b[0m\u001b[0;34m\u001b[0m\u001b[0;34m\u001b[0m\u001b[0m\n",
      "\u001b[0;31mException\u001b[0m: Expected input meshgrid should be of type Meshgrid but got 'NoneType'!"
     ]
    }
   ],
   "source": [
    "icp = IterativeClosestPoint()\n",
    "\n",
    "icp.match(np.zeros((3,3)), None)"
   ]
  }
 ],
 "metadata": {
  "kernelspec": {
   "display_name": "base",
   "language": "python",
   "name": "python3"
  },
  "language_info": {
   "codemirror_mode": {
    "name": "ipython",
    "version": 3
   },
   "file_extension": ".py",
   "mimetype": "text/x-python",
   "name": "python",
   "nbconvert_exporter": "python",
   "pygments_lexer": "ipython3",
   "version": "3.9.15"
  }
 },
 "nbformat": 4,
 "nbformat_minor": 2
}
